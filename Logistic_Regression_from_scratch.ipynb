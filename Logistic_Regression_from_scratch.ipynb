{
  "cells": [
    {
      "cell_type": "code",
      "execution_count": 32,
      "metadata": {
        "id": "smy6UckQ3YfA"
      },
      "outputs": [],
      "source": [
        "import numpy as np\n",
        "import matplotlib.pyplot as plt\n",
        "from sklearn.model_selection import train_test_split\n",
        "from sklearn import datasets"
      ]
    },
    {
      "cell_type": "code",
      "execution_count": 34,
      "metadata": {
        "id": "81K5S8w73gV5"
      },
      "outputs": [],
      "source": [
        "dataset = datasets.load_breast_cancer()"
      ]
    },
    {
      "cell_type": "code",
      "execution_count": 35,
      "metadata": {
        "colab": {
          "base_uri": "https://localhost:8080/"
        },
        "id": "CXSXEsFq_TRJ",
        "outputId": "3f874bca-49ed-45fd-9c11-776a01e7e886"
      },
      "outputs": [
        {
          "data": {
            "text/plain": [
              "array(['mean radius', 'mean texture', 'mean perimeter', 'mean area',\n",
              "       'mean smoothness', 'mean compactness', 'mean concavity',\n",
              "       'mean concave points', 'mean symmetry', 'mean fractal dimension',\n",
              "       'radius error', 'texture error', 'perimeter error', 'area error',\n",
              "       'smoothness error', 'compactness error', 'concavity error',\n",
              "       'concave points error', 'symmetry error',\n",
              "       'fractal dimension error', 'worst radius', 'worst texture',\n",
              "       'worst perimeter', 'worst area', 'worst smoothness',\n",
              "       'worst compactness', 'worst concavity', 'worst concave points',\n",
              "       'worst symmetry', 'worst fractal dimension'], dtype='<U23')"
            ]
          },
          "execution_count": 35,
          "metadata": {},
          "output_type": "execute_result"
        }
      ],
      "source": [
        "dataset['feature_names']"
      ]
    },
    {
      "cell_type": "code",
      "execution_count": 36,
      "metadata": {
        "colab": {
          "base_uri": "https://localhost:8080/"
        },
        "id": "-UtFWysvi63K",
        "outputId": "fe4fb9d3-7003-489c-e8fa-265958710459"
      },
      "outputs": [
        {
          "name": "stdout",
          "output_type": "stream",
          "text": [
            ".. _breast_cancer_dataset:\n",
            "\n",
            "Breast cancer wisconsin (diagnostic) dataset\n",
            "--------------------------------------------\n",
            "\n",
            "**Data Set Characteristics:**\n",
            "\n",
            "    :Number of Instances: 569\n",
            "\n",
            "    :Number of Attributes: 30 numeric, predictive attributes and the class\n",
            "\n",
            "    :Attribute Information:\n",
            "        - radius (mean of distances from center to points on the perimeter)\n",
            "        - texture (standard deviation of gray-scale values)\n",
            "        - perimeter\n",
            "        - area\n",
            "        - smoothness (local variation in radius lengths)\n",
            "        - compactness (perimeter^2 / area - 1.0)\n",
            "        - concavity (severity of concave portions of the contour)\n",
            "        - concave points (number of concave portions of the contour)\n",
            "        - symmetry\n",
            "        - fractal dimension (\"coastline approximation\" - 1)\n",
            "\n",
            "        The mean, standard error, and \"worst\" or largest (mean of the three\n",
            "        worst/largest values) of these features were computed for each image,\n",
            "        resulting in 30 features.  For instance, field 0 is Mean Radius, field\n",
            "        10 is Radius SE, field 20 is Worst Radius.\n",
            "\n",
            "        - class:\n",
            "                - WDBC-Malignant\n",
            "                - WDBC-Benign\n",
            "\n",
            "    :Summary Statistics:\n",
            "\n",
            "    ===================================== ====== ======\n",
            "                                           Min    Max\n",
            "    ===================================== ====== ======\n",
            "    radius (mean):                        6.981  28.11\n",
            "    texture (mean):                       9.71   39.28\n",
            "    perimeter (mean):                     43.79  188.5\n",
            "    area (mean):                          143.5  2501.0\n",
            "    smoothness (mean):                    0.053  0.163\n",
            "    compactness (mean):                   0.019  0.345\n",
            "    concavity (mean):                     0.0    0.427\n",
            "    concave points (mean):                0.0    0.201\n",
            "    symmetry (mean):                      0.106  0.304\n",
            "    fractal dimension (mean):             0.05   0.097\n",
            "    radius (standard error):              0.112  2.873\n",
            "    texture (standard error):             0.36   4.885\n",
            "    perimeter (standard error):           0.757  21.98\n",
            "    area (standard error):                6.802  542.2\n",
            "    smoothness (standard error):          0.002  0.031\n",
            "    compactness (standard error):         0.002  0.135\n",
            "    concavity (standard error):           0.0    0.396\n",
            "    concave points (standard error):      0.0    0.053\n",
            "    symmetry (standard error):            0.008  0.079\n",
            "    fractal dimension (standard error):   0.001  0.03\n",
            "    radius (worst):                       7.93   36.04\n",
            "    texture (worst):                      12.02  49.54\n",
            "    perimeter (worst):                    50.41  251.2\n",
            "    area (worst):                         185.2  4254.0\n",
            "    smoothness (worst):                   0.071  0.223\n",
            "    compactness (worst):                  0.027  1.058\n",
            "    concavity (worst):                    0.0    1.252\n",
            "    concave points (worst):               0.0    0.291\n",
            "    symmetry (worst):                     0.156  0.664\n",
            "    fractal dimension (worst):            0.055  0.208\n",
            "    ===================================== ====== ======\n",
            "\n",
            "    :Missing Attribute Values: None\n",
            "\n",
            "    :Class Distribution: 212 - Malignant, 357 - Benign\n",
            "\n",
            "    :Creator:  Dr. William H. Wolberg, W. Nick Street, Olvi L. Mangasarian\n",
            "\n",
            "    :Donor: Nick Street\n",
            "\n",
            "    :Date: November, 1995\n",
            "\n",
            "This is a copy of UCI ML Breast Cancer Wisconsin (Diagnostic) datasets.\n",
            "https://goo.gl/U2Uwz2\n",
            "\n",
            "Features are computed from a digitized image of a fine needle\n",
            "aspirate (FNA) of a breast mass.  They describe\n",
            "characteristics of the cell nuclei present in the image.\n",
            "\n",
            "Separating plane described above was obtained using\n",
            "Multisurface Method-Tree (MSM-T) [K. P. Bennett, \"Decision Tree\n",
            "Construction Via Linear Programming.\" Proceedings of the 4th\n",
            "Midwest Artificial Intelligence and Cognitive Science Society,\n",
            "pp. 97-101, 1992], a classification method which uses linear\n",
            "programming to construct a decision tree.  Relevant features\n",
            "were selected using an exhaustive search in the space of 1-4\n",
            "features and 1-3 separating planes.\n",
            "\n",
            "The actual linear program used to obtain the separating plane\n",
            "in the 3-dimensional space is that described in:\n",
            "[K. P. Bennett and O. L. Mangasarian: \"Robust Linear\n",
            "Programming Discrimination of Two Linearly Inseparable Sets\",\n",
            "Optimization Methods and Software 1, 1992, 23-34].\n",
            "\n",
            "This database is also available through the UW CS ftp server:\n",
            "\n",
            "ftp ftp.cs.wisc.edu\n",
            "cd math-prog/cpo-dataset/machine-learn/WDBC/\n",
            "\n",
            ".. topic:: References\n",
            "\n",
            "   - W.N. Street, W.H. Wolberg and O.L. Mangasarian. Nuclear feature extraction \n",
            "     for breast tumor diagnosis. IS&T/SPIE 1993 International Symposium on \n",
            "     Electronic Imaging: Science and Technology, volume 1905, pages 861-870,\n",
            "     San Jose, CA, 1993.\n",
            "   - O.L. Mangasarian, W.N. Street and W.H. Wolberg. Breast cancer diagnosis and \n",
            "     prognosis via linear programming. Operations Research, 43(4), pages 570-577, \n",
            "     July-August 1995.\n",
            "   - W.H. Wolberg, W.N. Street, and O.L. Mangasarian. Machine learning techniques\n",
            "     to diagnose breast cancer from fine-needle aspirates. Cancer Letters 77 (1994) \n",
            "     163-171.\n"
          ]
        }
      ],
      "source": [
        "print(dataset.DESCR)"
      ]
    },
    {
      "cell_type": "code",
      "execution_count": 37,
      "metadata": {
        "colab": {
          "base_uri": "https://localhost:8080/"
        },
        "id": "ZD3r2xLb-9jy",
        "outputId": "24571014-340b-49bf-8560-a0ab14ac3592"
      },
      "outputs": [
        {
          "data": {
            "text/plain": [
              "array(['malignant', 'benign'], dtype='<U9')"
            ]
          },
          "execution_count": 37,
          "metadata": {},
          "output_type": "execute_result"
        }
      ],
      "source": [
        "dataset['target_names']"
      ]
    },
    {
      "cell_type": "code",
      "execution_count": 38,
      "metadata": {
        "colab": {
          "base_uri": "https://localhost:8080/"
        },
        "id": "CQv4hatId1GC",
        "outputId": "05d0282c-1c13-4337-c246-c3b5e0868ea0"
      },
      "outputs": [
        {
          "data": {
            "text/plain": [
              "(array([1.361e+01, 2.498e+01, 8.805e+01, 5.827e+02, 9.488e-02, 8.511e-02,\n",
              "        8.625e-02, 4.489e-02, 1.609e-01, 5.871e-02, 4.565e-01, 1.290e+00,\n",
              "        2.861e+00, 4.314e+01, 5.872e-03, 1.488e-02, 2.647e-02, 9.921e-03,\n",
              "        1.465e-02, 2.355e-03, 1.699e+01, 3.527e+01, 1.086e+02, 9.065e+02,\n",
              "        1.265e-01, 1.943e-01, 3.169e-01, 1.184e-01, 2.651e-01, 7.397e-02]),\n",
              " 0)"
            ]
          },
          "execution_count": 38,
          "metadata": {},
          "output_type": "execute_result"
        }
      ],
      "source": [
        "dataset['data'][100],dataset['target'][100]"
      ]
    },
    {
      "cell_type": "code",
      "execution_count": 39,
      "metadata": {
        "colab": {
          "base_uri": "https://localhost:8080/"
        },
        "id": "BLfU524kAQEy",
        "outputId": "38d0e8db-dc89-4cdb-c8be-8a31532db596"
      },
      "outputs": [
        {
          "data": {
            "text/plain": [
              "array([0, 0, 0, 0, 0, 0, 0, 0, 0, 0, 0, 0, 0, 0, 0, 0, 0, 0, 0, 1, 1, 1,\n",
              "       0, 0, 0, 0, 0, 0, 0, 0, 0, 0, 0, 0, 0, 0, 0, 1, 0, 0, 0, 0, 0, 0,\n",
              "       0, 0, 1, 0, 1, 1, 1, 1, 1, 0, 0, 1, 0, 0, 1, 1, 1, 1, 0, 1, 0, 0,\n",
              "       1, 1, 1, 1, 0, 1, 0, 0, 1, 0, 1, 0, 0, 1, 1, 1, 0, 0, 1, 0, 0, 0,\n",
              "       1, 1, 1, 0, 1, 1, 0, 0, 1, 1, 1, 0, 0, 1, 1, 1, 1, 0, 1, 1, 0, 1,\n",
              "       1, 1, 1, 1, 1, 1, 1, 0, 0, 0, 1, 0, 0, 1, 1, 1, 0, 0, 1, 0, 1, 0,\n",
              "       0, 1, 0, 0, 1, 1, 0, 1, 1, 0, 1, 1, 1, 1, 0, 1, 1, 1, 1, 1, 1, 1,\n",
              "       1, 1, 0, 1, 1, 1, 1, 0, 0, 1, 0, 1, 1, 0, 0, 1, 1, 0, 0, 1, 1, 1,\n",
              "       1, 0, 1, 1, 0, 0, 0, 1, 0, 1, 0, 1, 1, 1, 0, 1, 1, 0, 0, 1, 0, 0,\n",
              "       0, 0, 1, 0, 0, 0, 1, 0, 1, 0, 1, 1, 0, 1, 0, 0, 0, 0, 1, 1, 0, 0,\n",
              "       1, 1, 1, 0, 1, 1, 1, 1, 1, 0, 0, 1, 1, 0, 1, 1, 0, 0, 1, 0, 1, 1,\n",
              "       1, 1, 0, 1, 1, 1, 1, 1, 0, 1, 0, 0, 0, 0, 0, 0, 0, 0, 0, 0, 0, 0,\n",
              "       0, 0, 1, 1, 1, 1, 1, 1, 0, 1, 0, 1, 1, 0, 1, 1, 0, 1, 0, 0, 1, 1,\n",
              "       1, 1, 1, 1, 1, 1, 1, 1, 1, 1, 1, 0, 1, 1, 0, 1, 0, 1, 1, 1, 1, 1,\n",
              "       1, 1, 1, 1, 1, 1, 1, 1, 1, 0, 1, 1, 1, 0, 1, 0, 1, 1, 1, 1, 0, 0,\n",
              "       0, 1, 1, 1, 1, 0, 1, 0, 1, 0, 1, 1, 1, 0, 1, 1, 1, 1, 1, 1, 1, 0,\n",
              "       0, 0, 1, 1, 1, 1, 1, 1, 1, 1, 1, 1, 1, 0, 0, 1, 0, 0, 0, 1, 0, 0,\n",
              "       1, 1, 1, 1, 1, 0, 1, 1, 1, 1, 1, 0, 1, 1, 1, 0, 1, 1, 0, 0, 1, 1,\n",
              "       1, 1, 1, 1, 0, 1, 1, 1, 1, 1, 1, 1, 0, 1, 1, 1, 1, 1, 0, 1, 1, 0,\n",
              "       1, 1, 1, 1, 1, 1, 1, 1, 1, 1, 1, 1, 0, 1, 0, 0, 1, 0, 1, 1, 1, 1,\n",
              "       1, 0, 1, 1, 0, 1, 0, 1, 1, 0, 1, 0, 1, 1, 1, 1, 1, 1, 1, 1, 0, 0,\n",
              "       1, 1, 1, 1, 1, 1, 0, 1, 1, 1, 1, 1, 1, 1, 1, 1, 1, 0, 1, 1, 1, 1,\n",
              "       1, 1, 1, 0, 1, 0, 1, 1, 0, 1, 1, 1, 1, 1, 0, 0, 1, 0, 1, 0, 1, 1,\n",
              "       1, 1, 1, 0, 1, 1, 0, 1, 0, 1, 0, 0, 1, 1, 1, 0, 1, 1, 1, 1, 1, 1,\n",
              "       1, 1, 1, 1, 1, 0, 1, 0, 0, 1, 1, 1, 1, 1, 1, 1, 1, 1, 1, 1, 1, 1,\n",
              "       1, 1, 1, 1, 1, 1, 1, 1, 1, 1, 1, 1, 0, 0, 0, 0, 0, 0, 1])"
            ]
          },
          "execution_count": 39,
          "metadata": {},
          "output_type": "execute_result"
        }
      ],
      "source": [
        "dataset['target']"
      ]
    },
    {
      "cell_type": "code",
      "execution_count": 40,
      "metadata": {
        "id": "XBDP9xKn3qty"
      },
      "outputs": [],
      "source": [
        "X , Y = dataset['data'],dataset['target']"
      ]
    },
    {
      "cell_type": "code",
      "execution_count": 41,
      "metadata": {
        "colab": {
          "base_uri": "https://localhost:8080/"
        },
        "id": "dnZAEtzfjdub",
        "outputId": "1a946915-a9a2-4be6-af2f-0be863d64445"
      },
      "outputs": [
        {
          "data": {
            "text/plain": [
              "(array([1.504e+01, 1.674e+01, 9.873e+01, 6.894e+02, 9.883e-02, 1.364e-01,\n",
              "        7.721e-02, 6.142e-02, 1.668e-01, 6.869e-02, 3.720e-01, 8.423e-01,\n",
              "        2.304e+00, 3.484e+01, 4.123e-03, 1.819e-02, 1.996e-02, 1.004e-02,\n",
              "        1.055e-02, 3.237e-03, 1.676e+01, 2.043e+01, 1.097e+02, 8.569e+02,\n",
              "        1.135e-01, 2.176e-01, 1.856e-01, 1.018e-01, 2.177e-01, 8.549e-02]),\n",
              " 1)"
            ]
          },
          "execution_count": 41,
          "metadata": {},
          "output_type": "execute_result"
        }
      ],
      "source": [
        "X[500],Y[500]"
      ]
    },
    {
      "cell_type": "code",
      "execution_count": 42,
      "metadata": {
        "id": "xpzo-_gz89QJ"
      },
      "outputs": [],
      "source": [
        "X_train, X_test, y_train, y_test = train_test_split(X, Y, test_size=0.2, random_state=42)"
      ]
    },
    {
      "cell_type": "code",
      "execution_count": 43,
      "metadata": {
        "colab": {
          "base_uri": "https://localhost:8080/"
        },
        "id": "jGjU1c8SLlHR",
        "outputId": "86d8010c-4258-44f3-cce8-5f3b94c1f2ba"
      },
      "outputs": [
        {
          "data": {
            "text/plain": [
              "((455, 30), (114, 30), (455,), (114,))"
            ]
          },
          "execution_count": 43,
          "metadata": {},
          "output_type": "execute_result"
        }
      ],
      "source": [
        "X_train.shape, X_test.shape, y_train.shape, y_test.shape"
      ]
    },
    {
      "cell_type": "code",
      "execution_count": 44,
      "metadata": {
        "id": "MGgIjutIj-T7"
      },
      "outputs": [],
      "source": [
        "def sigmoid(x):\n",
        "  return 1/(1+np.exp(-x))"
      ]
    },
    {
      "attachments": {},
      "cell_type": "markdown",
      "metadata": {
        "id": "l1_1wVXF6pIq"
      },
      "source": [
        "$$Binary Cross Entropy = - \\frac{1}{m} \\sum\\limits_{i = 1}^{m} \\large{(} \\small y^{(i)}\\ln\\left(y\\_pred^{ (i)}\\right) + (1-y^{(i)})\\ln\\left(1- y\\_pred^{ (i)}\\right) \\large{)} $$"
      ]
    },
    {
      "cell_type": "code",
      "execution_count": 74,
      "metadata": {
        "id": "e5H53TXzBLJK"
      },
      "outputs": [],
      "source": [
        "class LogisticRegression:\n",
        "    def __init__(self, lr=1e-4, n=1000, gramma=0.9, verbose=10, momentum=False):\n",
        "        self.lr = lr\n",
        "        self.n = n\n",
        "        self.gramma = gramma\n",
        "        self.verbose = verbose\n",
        "        self.momentum = momentum\n",
        "        self.w = None\n",
        "        self.b = None\n",
        "        self.log = None\n",
        "    \n",
        "    def fit(self, X, Y,*,random_state= 42,test_size=0.2):\n",
        "        X, x, Y, y = train_test_split(X, Y, test_size=test_size, random_state=random_state)\n",
        "        if self.verbose < 0:\n",
        "            self.verbose = self.n\n",
        "        m, dim = X.shape\n",
        "        self.w = np.zeros((dim, 1))\n",
        "        self.b = 0\n",
        "        vw = 0\n",
        "        vb = 0\n",
        "        self.log = {'epochs': [], 'acc_train': [], 'acc_test': []}\n",
        "        for i in range(self.n):\n",
        "            z = np.dot(self.w.T, X.T) + self.b\n",
        "            y_pred = sigmoid(z)\n",
        "            cost_train = np.sum(((- np.log(y_pred))*Y + (-np.log(1-y_pred))*(1-Y)))/m\n",
        "            dw = (np.dot(X.T, (y_pred-Y).T))/m\n",
        "            db = (np.sum((y_pred-Y)))/m\n",
        "            if self.momentum:\n",
        "                vw = (self.gramma)*vw + self.lr*dw\n",
        "                vb = (self.gramma)*vb + self.lr*db\n",
        "                self.w = self.w - vw\n",
        "                self.b = self.b - vb\n",
        "            else:\n",
        "                self.w = self.w - self.lr*dw\n",
        "                self.b = self.b - self.lr*db\n",
        "            if (i+1) % (self.n // self.verbose) == 0 or (i+1) == 1 or (i+1) == self.n:\n",
        "                ans = np.round(y_pred)\n",
        "                acc_train = np.mean(ans == Y)\n",
        "                self.log['acc_train'].append(acc_train*100)\n",
        "                self.log['epochs'].append(i+1)\n",
        "                \n",
        "                z = np.dot(self.w.T, x.T) + self.b\n",
        "                test_pred = sigmoid(z)\n",
        "                ans = np.round(test_pred)\n",
        "                acc_test = np.mean(ans == y)\n",
        "                self.log['acc_test'].append(acc_test*100)         \n",
        "                print(f'epoch {i+1:^4} : train_accuracy = {acc_train*100:.3f} %    validation_accuracy = {acc_test*100:.3f} %   train_loss = {cost_train:.10f}')\n",
        "        return (self.w,self.b,self.log)\n",
        "    \n",
        "    def predict(self, x):\n",
        "        z = np.dot(self.w.T, x.T) + self.b\n",
        "        test_pred = sigmoid(z)\n",
        "        ans = np.round(test_pred)\n",
        "        return ans[0]\n"
      ]
    },
    {
      "cell_type": "code",
      "execution_count": 80,
      "metadata": {
        "colab": {
          "base_uri": "https://localhost:8080/"
        },
        "id": "Uhf-tGFNBbli",
        "outputId": "49519c24-2de9-4383-a4a8-7266f54bb86f"
      },
      "outputs": [
        {
          "name": "stdout",
          "output_type": "stream",
          "text": [
            "epoch  1   : train_accuracy = 36.538 %    validation_accuracy = 39.560 %   train_loss = 0.6931471806\n",
            "epoch  20  : train_accuracy = 90.934 %    validation_accuracy = 85.714 %   train_loss = 0.3715137911\n",
            "epoch  40  : train_accuracy = 90.110 %    validation_accuracy = 91.209 %   train_loss = 0.2906957420\n",
            "epoch  60  : train_accuracy = 91.209 %    validation_accuracy = 90.110 %   train_loss = 0.2710585688\n",
            "epoch  80  : train_accuracy = 90.934 %    validation_accuracy = 90.110 %   train_loss = 0.2742162160\n",
            "epoch 100  : train_accuracy = 90.934 %    validation_accuracy = 92.308 %   train_loss = 0.2773515288\n",
            "epoch 120  : train_accuracy = 90.659 %    validation_accuracy = 92.308 %   train_loss = 0.2825488199\n",
            "epoch 140  : train_accuracy = 90.110 %    validation_accuracy = 92.308 %   train_loss = 0.2884327918\n",
            "epoch 160  : train_accuracy = 89.560 %    validation_accuracy = 92.308 %   train_loss = 0.2919001292\n",
            "epoch 180  : train_accuracy = 89.835 %    validation_accuracy = 92.308 %   train_loss = 0.2934815996\n",
            "epoch 200  : train_accuracy = 89.560 %    validation_accuracy = 92.308 %   train_loss = 0.2911705463\n",
            "epoch 220  : train_accuracy = 90.110 %    validation_accuracy = 92.308 %   train_loss = 0.2838492384\n",
            "epoch 240  : train_accuracy = 90.385 %    validation_accuracy = 92.308 %   train_loss = 0.2730173398\n",
            "epoch 260  : train_accuracy = 90.659 %    validation_accuracy = 92.308 %   train_loss = 0.2613329920\n",
            "epoch 280  : train_accuracy = 90.659 %    validation_accuracy = 92.308 %   train_loss = 0.2507771086\n",
            "epoch 300  : train_accuracy = 90.659 %    validation_accuracy = 92.308 %   train_loss = 0.2419061198\n",
            "epoch 320  : train_accuracy = 90.385 %    validation_accuracy = 93.407 %   train_loss = 0.2340967343\n",
            "epoch 340  : train_accuracy = 90.659 %    validation_accuracy = 93.407 %   train_loss = 0.2262301947\n",
            "epoch 360  : train_accuracy = 90.934 %    validation_accuracy = 92.308 %   train_loss = 0.2195118682\n",
            "epoch 380  : train_accuracy = 90.934 %    validation_accuracy = 93.407 %   train_loss = 0.2139317255\n",
            "epoch 400  : train_accuracy = 91.484 %    validation_accuracy = 92.308 %   train_loss = 0.2107580896\n",
            "epoch 420  : train_accuracy = 91.484 %    validation_accuracy = 92.308 %   train_loss = 0.2092875074\n",
            "epoch 440  : train_accuracy = 91.484 %    validation_accuracy = 93.407 %   train_loss = 0.2084851214\n",
            "epoch 460  : train_accuracy = 91.758 %    validation_accuracy = 94.505 %   train_loss = 0.2074632090\n",
            "epoch 480  : train_accuracy = 92.033 %    validation_accuracy = 93.407 %   train_loss = 0.2059047133\n",
            "epoch 500  : train_accuracy = 91.758 %    validation_accuracy = 94.505 %   train_loss = 0.2040763415\n",
            "epoch 520  : train_accuracy = 92.308 %    validation_accuracy = 94.505 %   train_loss = 0.2027160866\n",
            "epoch 540  : train_accuracy = 92.308 %    validation_accuracy = 94.505 %   train_loss = 0.2016747321\n",
            "epoch 560  : train_accuracy = 92.308 %    validation_accuracy = 93.407 %   train_loss = 0.2007165187\n",
            "epoch 580  : train_accuracy = 92.033 %    validation_accuracy = 94.505 %   train_loss = 0.1999065457\n",
            "epoch 600  : train_accuracy = 91.758 %    validation_accuracy = 93.407 %   train_loss = 0.1993724568\n",
            "epoch 620  : train_accuracy = 92.033 %    validation_accuracy = 94.505 %   train_loss = 0.1991029573\n",
            "epoch 640  : train_accuracy = 91.758 %    validation_accuracy = 93.407 %   train_loss = 0.1989445820\n",
            "epoch 660  : train_accuracy = 91.758 %    validation_accuracy = 93.407 %   train_loss = 0.1987380168\n",
            "epoch 680  : train_accuracy = 91.758 %    validation_accuracy = 93.407 %   train_loss = 0.1984278758\n",
            "epoch 700  : train_accuracy = 91.758 %    validation_accuracy = 93.407 %   train_loss = 0.1980524494\n",
            "epoch 720  : train_accuracy = 91.758 %    validation_accuracy = 93.407 %   train_loss = 0.1976652383\n",
            "epoch 740  : train_accuracy = 91.758 %    validation_accuracy = 93.407 %   train_loss = 0.1972858860\n",
            "epoch 760  : train_accuracy = 91.758 %    validation_accuracy = 93.407 %   train_loss = 0.1969082845\n",
            "epoch 780  : train_accuracy = 91.758 %    validation_accuracy = 94.505 %   train_loss = 0.1965308766\n",
            "epoch 800  : train_accuracy = 91.758 %    validation_accuracy = 94.505 %   train_loss = 0.1961689538\n",
            "epoch 820  : train_accuracy = 91.758 %    validation_accuracy = 94.505 %   train_loss = 0.1958415652\n",
            "epoch 840  : train_accuracy = 92.033 %    validation_accuracy = 94.505 %   train_loss = 0.1955528330\n",
            "epoch 860  : train_accuracy = 92.033 %    validation_accuracy = 94.505 %   train_loss = 0.1952890944\n",
            "epoch 880  : train_accuracy = 92.033 %    validation_accuracy = 94.505 %   train_loss = 0.1950328859\n",
            "epoch 900  : train_accuracy = 92.033 %    validation_accuracy = 94.505 %   train_loss = 0.1947764850\n",
            "epoch 920  : train_accuracy = 92.033 %    validation_accuracy = 94.505 %   train_loss = 0.1945223449\n",
            "epoch 940  : train_accuracy = 92.033 %    validation_accuracy = 94.505 %   train_loss = 0.1942745905\n",
            "epoch 960  : train_accuracy = 92.033 %    validation_accuracy = 94.505 %   train_loss = 0.1940332854\n",
            "epoch 980  : train_accuracy = 91.758 %    validation_accuracy = 94.505 %   train_loss = 0.1937958913\n",
            "epoch 1000 : train_accuracy = 92.033 %    validation_accuracy = 94.505 %   train_loss = 0.1935612638\n"
          ]
        }
      ],
      "source": [
        "model = LogisticRegression(lr = 1e-5 , n = 1000 ,gramma=0.99,verbose = 50, momentum = True)\n",
        "w,b,log = model.fit(X_train,y_train,random_state= 42,test_size=0.2)"
      ]
    },
    {
      "cell_type": "code",
      "execution_count": 81,
      "metadata": {
        "id": "zzzpvq4yFzTA"
      },
      "outputs": [
        {
          "data": {
            "image/png": "[encoded data removed]",
            "text/plain": [
              "<Figure size 1440x720 with 1 Axes>"
            ]
          },
          "metadata": {
            "needs_background": "light"
          },
          "output_type": "display_data"
        }
      ],
      "source": [
        "import matplotlib.pyplot as plt\n",
        "plt.figure(figsize=(20,10))\n",
        "plt.plot(log['epochs'],log['acc_train'])\n",
        "plt.plot(log['epochs'],log['acc_test'],'orange')\n",
        "plt.legend(['train','test'])\n",
        "plt.xlabel(\"Epoch\")\n",
        "plt.ylabel('Accuracy %')\n",
        "plt.show()"
      ]
    },
    {
      "cell_type": "code",
      "execution_count": 85,
      "metadata": {
        "id": "ExO7D-d5C-p7"
      },
      "outputs": [
        {
          "name": "stdout",
          "output_type": "stream",
          "text": [
            "test accuracy : 95.6140350877193 %\n"
          ]
        }
      ],
      "source": [
        "print(f'test accuracy : {(np.average(model.predict(X_test) == y_test))*100} %')"
      ]
    }
  ],
  "metadata": {
    "colab": {
      "provenance": []
    },
    "kernelspec": {
      "display_name": "base",
      "language": "python",
      "name": "python3"
    },
    "language_info": {
      "codemirror_mode": {
        "name": "ipython",
        "version": 3
      },
      "file_extension": ".py",
      "mimetype": "text/x-python",
      "name": "python",
      "nbconvert_exporter": "python",
      "pygments_lexer": "ipython3",
      "version": "3.9.12"
    },
    "vscode": {
      "interpreter": {
        "hash": "b09ec625f77bf4fd762565a912b97636504ad6ec901eb2d0f4cf5a7de23e1ee5"
      }
    }
  },
  "nbformat": 4,
  "nbformat_minor": 0
}
