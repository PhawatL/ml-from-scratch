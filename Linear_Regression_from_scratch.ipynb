{
 "cells": [
  {
   "cell_type": "code",
   "execution_count": 1,
   "metadata": {},
   "outputs": [],
   "source": [
    "import numpy as np\n",
    "from sklearn.model_selection import train_test_split\n",
    "from sklearn import datasets\n",
    "import matplotlib.pyplot as plt"
   ]
  },
  {
   "cell_type": "code",
   "execution_count": 2,
   "metadata": {},
   "outputs": [],
   "source": [
    "class LinearRegression:\n",
    "    def __init__(self):\n",
    "        self.w = None\n",
    "        self.b = None\n",
    "\n",
    "        self.vm = 0\n",
    "        self.vb = 0\n",
    "        \n",
    "    def fit(self,X,y,epochs,lr,gramma=0.9):\n",
    "        n_samples, n_features = X.shape\n",
    "        self.w = np.zeros(n_features)\n",
    "        self.b = 0\n",
    "        self.n = len(X)\n",
    "        \n",
    "        for epoch in range(epochs):\n",
    "            \n",
    "            y_pred = np.dot(X, self.w) + self.b\n",
    "    \n",
    "            \n",
    "            dw = np.dot(X.T, (y_pred-y))/n_samples\n",
    "            db = np.sum(y_pred-y)/n_samples\n",
    "            \n",
    "            self.vm = (gramma)*self.vm + lr*dw\n",
    "            self.vb = (gramma)*self.vb + lr*db\n",
    "            \n",
    "            self.w = self.w - self.vm\n",
    "            self.b = self.b - self.vb\n",
    "            \n",
    "            if (epoch+1) % 1000 == 0 or (epoch+1) == 1 :\n",
    "                loss = np.average((y_pred-y)**2)\n",
    "                print(f'epoch = {epoch+1:,}   loss = {loss:,}')\n",
    "                \n",
    "    "
   ]
  },
  {
   "cell_type": "code",
   "execution_count": 3,
   "metadata": {},
   "outputs": [],
   "source": [
    "X, y = datasets.make_regression(n_samples=1000, n_features=1, noise=10, random_state=42)\n",
    "X_train, X_test, y_train, y_test = train_test_split(X, y, test_size=0.2, random_state=42)"
   ]
  },
  {
   "cell_type": "code",
   "execution_count": 6,
   "metadata": {},
   "outputs": [
    {
     "name": "stdout",
     "output_type": "stream",
     "text": [
      "epoch = 1   loss = 363.18085757699873\n",
      "epoch = 1,000   loss = 166.97923139594678\n",
      "epoch = 2,000   loss = 105.65469545510662\n",
      "epoch = 3,000   loss = 99.0478169564544\n",
      "epoch = 4,000   loss = 100.09219692126538\n",
      "epoch = 5,000   loss = 99.47543999963514\n",
      "epoch = 6,000   loss = 98.52587074317786\n",
      "epoch = 7,000   loss = 98.10622282635003\n",
      "epoch = 8,000   loss = 98.02784648434917\n",
      "epoch = 9,000   loss = 98.02940977463129\n",
      "epoch = 10,000   loss = 98.02787827780998\n"
     ]
    }
   ],
   "source": [
    "model = LinearRegression()\n",
    "model.fit(X,y,epochs=10000,lr=0.001,gramma=0.999)\n"
   ]
  },
  {
   "cell_type": "code",
   "execution_count": 7,
   "metadata": {},
   "outputs": [
    {
     "data": {
      "text/plain": [
       "[<matplotlib.lines.Line2D at 0x1eed7a60af0>]"
      ]
     },
     "execution_count": 7,
     "metadata": {},
     "output_type": "execute_result"
    },
    {
     "data": {
      "image/png": "[encoded data removed]",
      "text/plain": [
       "<Figure size 432x288 with 1 Axes>"
      ]
     },
     "metadata": {
      "needs_background": "light"
     },
     "output_type": "display_data"
    }
   ],
   "source": [
    "plt.scatter(x=X_train.flatten(),y=y_train)\n",
    "plt.plot(X_train.flatten(),model.w*X_train.flatten() + model.b,'red')"
   ]
  },
  {
   "cell_type": "code",
   "execution_count": 16,
   "metadata": {},
   "outputs": [],
   "source": [
    "data = datasets.load_diabetes()\n",
    "\n",
    "X = data.data\n",
    "y = data.target"
   ]
  },
  {
   "cell_type": "code",
   "execution_count": 17,
   "metadata": {},
   "outputs": [],
   "source": [
    "X_train, X_test, y_train, y_test = train_test_split(X, y, test_size=0.2, random_state=42)"
   ]
  },
  {
   "cell_type": "code",
   "execution_count": 21,
   "metadata": {},
   "outputs": [
    {
     "name": "stdout",
     "output_type": "stream",
     "text": [
      "epoch = 1   loss = 29,074.481900452487\n",
      "epoch = 1,000   loss = 11,859.516656047834\n",
      "epoch = 2,000   loss = 5,870.283593064459\n",
      "epoch = 3,000   loss = 3,750.2688641934133\n",
      "epoch = 4,000   loss = 3,104.7655786943615\n",
      "epoch = 5,000   loss = 2,930.3053485923533\n",
      "epoch = 6,000   loss = 2,885.706000709882\n",
      "epoch = 7,000   loss = 2,878.8505423214924\n",
      "epoch = 8,000   loss = 2,876.8823648767866\n",
      "epoch = 9,000   loss = 2,876.434980063359\n",
      "epoch = 10,000   loss = 2,875.6972199053976\n",
      "epoch = 11,000   loss = 2,874.982851271841\n",
      "epoch = 12,000   loss = 2,874.309167460761\n",
      "epoch = 13,000   loss = 2,873.68922433093\n",
      "epoch = 14,000   loss = 2,873.1214749902883\n",
      "epoch = 15,000   loss = 2,872.588308127649\n",
      "epoch = 16,000   loss = 2,872.0836531414507\n",
      "epoch = 17,000   loss = 2,871.6013423193235\n",
      "epoch = 18,000   loss = 2,871.1390877050917\n",
      "epoch = 19,000   loss = 2,870.69519199301\n",
      "epoch = 20,000   loss = 2,870.2686803412753\n"
     ]
    }
   ],
   "source": [
    "model = LinearRegression()\n",
    "model.fit(X,y,epochs=20000,lr=0.001,gramma=0.999)\n"
   ]
  }
 ],
 "metadata": {
  "kernelspec": {
   "display_name": "base",
   "language": "python",
   "name": "python3"
  },
  "language_info": {
   "codemirror_mode": {
    "name": "ipython",
    "version": 3
   },
   "file_extension": ".py",
   "mimetype": "text/x-python",
   "name": "python",
   "nbconvert_exporter": "python",
   "pygments_lexer": "ipython3",
   "version": "3.9.12"
  },
  "orig_nbformat": 4,
  "vscode": {
   "interpreter": {
    "hash": "b09ec625f77bf4fd762565a912b97636504ad6ec901eb2d0f4cf5a7de23e1ee5"
   }
  }
 },
 "nbformat": 4,
 "nbformat_minor": 2
}
